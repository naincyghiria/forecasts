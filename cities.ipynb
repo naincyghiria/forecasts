{
 "cells": [
  {
   "cell_type": "code",
   "execution_count": 1,
   "metadata": {},
   "outputs": [],
   "source": [
    "import pandas as pd\n",
    "df=pd.read_csv('BaseFilewPopulation1.csv')\n",
    "print(df.columns)"
   ]
  },
  {
   "cell_type": "markdown",
   "metadata": {},
   "source": [
    "FOR MAPPING"
   ]
  },
  {
   "cell_type": "code",
   "execution_count": null,
   "metadata": {},
   "outputs": [],
   "source": [
    "unique_cities = df[['name_of_city']].drop_duplicates()\n",
    "\n",
    "# Print the unique cities and their populations\n",
    "print(unique_cities.columns)\n",
    "print(unique_cities['name_of_city'])"
   ]
  },
  {
   "cell_type": "code",
   "execution_count": null,
   "metadata": {},
   "outputs": [],
   "source": [
    "cities_df=pd.read_csv('Cities - Sheet1.csv')\n",
    "cities_df['URBAN'] = cities_df['URBAN'].str.upper().str.strip()\n",
    "cities_df['METRO'] = cities_df['METRO'].str.upper().str.strip()"
   ]
  },
  {
   "cell_type": "code",
   "execution_count": null,
   "metadata": {},
   "outputs": [],
   "source": [
    "import numpy as np\n",
    "conditions = [\n",
    "    df['name_of_city'].isin(cities_df['METRO']),\n",
    "    df['name_of_city'].isin(cities_df['URBAN']),\n",
    "]\n",
    "\n",
    "# Define values for each condition\n",
    "values = ['METRO', 'URBAN']\n",
    "\n",
    "# Assign 'RURAL' for all other cases\n",
    "default_value = 'RURAL'\n",
    "\n",
    "# Use numpy.select to apply the conditions and values\n",
    "df['city_tier'] = np.select(conditions, values, default=default_value)\n",
    "\n",
    "# Print the updated DataFrame with the new 'city_tier' column\n",
    "print(df)\n",
    "df.to_csv('BaseFilewPopulation1.csv',index=False)"
   ]
  },
  {
   "cell_type": "code",
   "execution_count": null,
   "metadata": {},
   "outputs": [],
   "source": [
    "# Count null values in 'city_tier' column\n",
    "null_count = df['city_tier'].isnull().sum()\n",
    "\n",
    "# Count 'urban,' 'rural,' and 'metro' values in 'city_tier' column\n",
    "urban_count = (df['city_tier'] == 'URBAN').sum()\n",
    "rural_count = (df['city_tier'] == 'RURAL').sum()\n",
    "metro_count = (df['city_tier'] == 'METRO').sum()\n",
    "\n",
    "# Print the counts\n",
    "print(\"Null count:\", null_count)\n",
    "print(\"Urban count:\", urban_count)\n",
    "print(\"Rural count:\", rural_count)\n",
    "print(\"Metro count:\", metro_count)\n"
   ]
  }
 ],
 "metadata": {
  "kernelspec": {
   "display_name": "Python 3",
   "language": "python",
   "name": "python3"
  },
  "language_info": {
   "codemirror_mode": {
    "name": "ipython",
    "version": 3
   },
   "file_extension": ".py",
   "mimetype": "text/x-python",
   "name": "python",
   "nbconvert_exporter": "python",
   "pygments_lexer": "ipython3",
   "version": "3.11.7"
  }
 },
 "nbformat": 4,
 "nbformat_minor": 2
}
