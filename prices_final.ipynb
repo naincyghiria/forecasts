{
 "cells": [
  {
   "cell_type": "code",
   "execution_count": null,
   "metadata": {},
   "outputs": [],
   "source": [
    "import pandas as pd\n",
    "df=pd.read_csv('BaseFilewPopulation.csv')\n",
    "prices=pd.read_csv('Final_Cleaned_India_Bike_Database_No_Years.csv')\n",
    "prices1=pd.read_csv('bike_data1.csv')\n",
    "prices_digit=pd.read_csv('bikepricesdigit.csv')"
   ]
  },
  {
   "cell_type": "code",
   "execution_count": null,
   "metadata": {},
   "outputs": [],
   "source": [
    "prices['vehicle_make_model'] = prices['vehicle_make_model'].str.upper().str.strip()\n",
    "\n",
    "prices = prices.drop_duplicates(subset=['vehicle_make_model'])"
   ]
  },
  {
   "cell_type": "code",
   "execution_count": null,
   "metadata": {},
   "outputs": [],
   "source": [
    "df['vehicle_make_model']=df['vehicle_make'].str.upper()+' '+df['vehicle_model'].str.upper()\n",
    "# Get unique values from the \"vehicle_make_model\" column\n",
    "unique_make_models = df['vehicle_make_model'].drop_duplicates()\n",
    "\n",
    "# Print the unique make and models\n",
    "print(unique_make_models)\n",
    "# Create a new DataFrame with the unique make and model combinations\n",
    "unique_make_models_df = pd.DataFrame(unique_make_models, columns=['vehicle_make_model'])\n",
    "\n",
    "\n",
    "# Print the DataFrame to see the mapped values\n",
    "print(unique_make_models_df)"
   ]
  },
  {
   "cell_type": "code",
   "execution_count": null,
   "metadata": {},
   "outputs": [],
   "source": [
    "import re\n",
    "\n",
    "unique_make_models_df['transformed_col'] = unique_make_models_df['vehicle_make_model'].str.split().str.join('')\n",
    "unique_make_models_df['transformed_col'] = unique_make_models_df['transformed_col'].apply(lambda x: re.sub(r'[^\\w\\s]', '', x))\n",
    "\n",
    "prices['vehicle_make_model'] = prices['vehicle_make_model'].str.split().str.join('')\n",
    "prices['vehicle_make_model'] = prices['vehicle_make_model'].apply(lambda x: re.sub(r'[^\\w\\s]', '', x))\n"
   ]
  },
  {
   "cell_type": "code",
   "execution_count": null,
   "metadata": {},
   "outputs": [],
   "source": [
    "merged_df = pd.merge(unique_make_models_df, prices, left_on='transformed_col', right_on='vehicle_make_model', how='left')\n",
    "# Print the merged DataFrame to see the mapping\n",
    "print(merged_df)"
   ]
  },
  {
   "cell_type": "code",
   "execution_count": null,
   "metadata": {},
   "outputs": [],
   "source": [
    "from fuzzywuzzy import process,fuzz\n",
    "nan_indices = merged_df['prices'].isna()\n",
    "\n",
    "# Initialize a new column to store the matched value and fuzzy score\n",
    "merged_df['matched_value'] = ''\n",
    "merged_df['fuzzy_score'] = 0\n",
    "\n",
    "# Perform fuzzy matching and map fuzzy scores to NaN values\n",
    "for index, row in merged_df[nan_indices].iterrows():\n",
    "    fuzzy_matches = process.extract(row['transformed_col'], prices['vehicle_make_model'], scorer=fuzz.partial_ratio)\n",
    "    best_match = max(fuzzy_matches, key=lambda x: x[1])  # Get the best fuzzy match\n",
    "    if best_match[1] >95:  # Adjust the threshold as needed\n",
    "        matched_value = prices.loc[best_match[2], 'vehicle_make_model']\n",
    "        fuzzy_score = best_match[1]\n",
    "        price = prices.loc[best_match[2], 'prices']\n",
    "        merged_df.loc[index, 'matched_value'] = matched_value\n",
    "        merged_df.loc[index, 'fuzzy_score'] = fuzzy_score\n",
    "        merged_df.loc[index, 'prices'] = price\n",
    "\n",
    "# Print the updated merged DataFrame\n",
    "print(merged_df)"
   ]
  },
  {
   "cell_type": "code",
   "execution_count": null,
   "metadata": {},
   "outputs": [],
   "source": [
    "\n",
    "# Count the NaN values in the merged DataFrame\n",
    "nan_count = merged_df['prices'].isna().sum()\n",
    "\n",
    "# Print the count of NaN values\n",
    "print(\"Number of NaN values:\", nan_count)"
   ]
  },
  {
   "cell_type": "code",
   "execution_count": null,
   "metadata": {},
   "outputs": [],
   "source": [
    "prices1['vehicle_make_model'] = prices1['vehicle_make_model'].str.upper().str.strip()\n",
    "prices1['vehicle_make_model'] = prices1['vehicle_make_model'].str.split().str.join('')\n",
    "prices1['vehicle_make_model'] = prices1['vehicle_make_model'].apply(lambda x: re.sub(r'[^\\w\\s]', '', x))"
   ]
  },
  {
   "cell_type": "code",
   "execution_count": null,
   "metadata": {},
   "outputs": [],
   "source": [
    "prices_digit['vehicle_make_model']=prices_digit['Make'].str.upper()+' '+prices_digit['Model'].str.upper()\n",
    "# Get unique values from the \"vehicle_make_model\" column\n",
    "prices_digit = prices_digit.drop_duplicates(subset=['vehicle_make_model'])\n",
    "prices_digit ['vehicle_make_model'] = prices_digit ['vehicle_make_model'].str.upper().str.strip()\n",
    "prices_digit ['vehicle_make_model'] = prices_digit ['vehicle_make_model'].str.split().str.join('')\n",
    "prices_digit ['vehicle_make_model'] = prices_digit ['vehicle_make_model'].apply(lambda x: re.sub(r'[^\\w\\s]', '', x))\n",
    "prices_digit = prices_digit[['vehicle_make_model', 'prices']]"
   ]
  },
  {
   "cell_type": "code",
   "execution_count": null,
   "metadata": {},
   "outputs": [],
   "source": [
    "null_prices_indices = merged_df['prices'].isna()\n",
    "\n",
    "for index, row in merged_df[null_prices_indices].iterrows():\n",
    "    fuzzy_matches = process.extract(row['transformed_col'], prices1['vehicle_make_model'], scorer=fuzz.partial_ratio)\n",
    "    best_match = max(fuzzy_matches, key=lambda x: x[1])  # Get the best fuzzy match\n",
    "    if best_match[1] > 95:  # Adjust the threshold as needed\n",
    "        matched_value = prices1.loc[best_match[2], 'vehicle_make_model']\n",
    "        fuzzy_score = best_match[1]\n",
    "        price = prices1.loc[best_match[2], 'prices']\n",
    "        merged_df.loc[index, 'matched_value'] = matched_value\n",
    "        merged_df.loc[index, 'fuzzy_score'] = fuzzy_score\n",
    "        # Assign the correct price value from prices1 to prices column in merged_df\n",
    "        merged_df.loc[index, 'prices'] = price\n",
    "\n",
    "# Print the final merged DataFrame with updated null prices\n",
    "print(merged_df)"
   ]
  },
  {
   "cell_type": "code",
   "execution_count": null,
   "metadata": {},
   "outputs": [],
   "source": [
    "\n",
    "# Count the NaN values in the merged DataFrame\n",
    "nan_count = merged_df['prices'].isna().sum()\n",
    "\n",
    "# Print the count of NaN values\n",
    "print(\"Number of NaN values:\", nan_count)"
   ]
  },
  {
   "cell_type": "code",
   "execution_count": null,
   "metadata": {},
   "outputs": [],
   "source": [
    "null_prices_indices = merged_df['prices'].isna()\n",
    "\n",
    "for index, row in merged_df[null_prices_indices].iterrows():\n",
    "    fuzzy_matches = process.extract(row['transformed_col'], prices_digit['vehicle_make_model'], scorer=fuzz.partial_ratio)\n",
    "    best_match = max(fuzzy_matches, key=lambda x: x[1])  # Get the best fuzzy match\n",
    "    if best_match[1] > 95:  # Adjust the threshold as needed\n",
    "        matched_value = prices_digit.loc[best_match[2], 'vehicle_make_model']\n",
    "        fuzzy_score = best_match[1]\n",
    "        price = prices_digit.loc[best_match[2], 'prices']\n",
    "        merged_df.loc[index, 'matched_value'] = matched_value\n",
    "        merged_df.loc[index, 'fuzzy_score'] = fuzzy_score\n",
    "        # Assign the correct price value from prices1 to prices column in merged_df\n",
    "        merged_df.loc[index, 'prices'] = price\n",
    "\n",
    "# Print the final merged DataFrame with updated null prices\n",
    "print(merged_df)"
   ]
  },
  {
   "cell_type": "code",
   "execution_count": null,
   "metadata": {},
   "outputs": [],
   "source": [
    "\n",
    "# Count the NaN values in the merged DataFrame\n",
    "nan_count = merged_df['prices'].isna().sum()\n",
    "\n",
    "# Print the count of NaN values\n",
    "print(\"Number of NaN values:\", nan_count)"
   ]
  },
  {
   "cell_type": "code",
   "execution_count": null,
   "metadata": {},
   "outputs": [],
   "source": [
    "import pandas as pd\n",
    "\n",
    "# Assuming df_prices is your prices DataFrame and unique_make_models contains unique make and model combinations\n",
    "# Also assuming df['vehicle_make_model'] is a column in df\n",
    "\n",
    "# Merge df['vehicle_make_model'] with merged_df on 'vehicle_make_model' column\n",
    "merged_with_df = pd.merge(df, merged_df[['vehicle_make_model_x', 'prices']], left_on='vehicle_make_model', right_on='vehicle_make_model_x', how='left')\n",
    "\n",
    "# Print the merged DataFrame with only rows that have matching values in df['vehicle_make_model']\n",
    "print(merged_with_df)"
   ]
  },
  {
   "cell_type": "code",
   "execution_count": null,
   "metadata": {},
   "outputs": [],
   "source": [
    "merged_with_df['prices'].fillna(0, inplace=True)\n",
    "import pandas as pd\n",
    "\n",
    "# Assuming merged_with_df is your merged DataFrame\n",
    "merged_with_df['Vehicle Count'] = pd.to_numeric(merged_with_df['Vehicle Count'], errors='coerce')\n",
    "# Count number of rows where price is null\n",
    "null_price_count = merged_with_df['prices'].isnull().sum()\n",
    "non_null_prices_count = merged_with_df['prices'].notnull().sum()\n",
    "\n",
    "# Calculate sum of vehicle count for null and non-null prices\n",
    "sum_vehicle_count_null_prices = merged_with_df.loc[merged_with_df['prices'].isnull(), 'Vehicle Count'].sum()\n",
    "sum_vehicle_count_non_null_prices = merged_with_df.loc[~merged_with_df['prices'].isnull(), 'Vehicle Count'].sum()\n",
    "\n",
    "print(\"Number of rows with null price:\", null_price_count)\n",
    "print(\"Number of rows with non null price:\", non_null_prices_count)\n",
    "print(\"Sum of vehicle count for null prices:\", sum_vehicle_count_null_prices)\n",
    "print(\"Sum of vehicle count for non-null prices:\", sum_vehicle_count_non_null_prices)\n"
   ]
  },
  {
   "cell_type": "markdown",
   "metadata": {},
   "source": [
    "update price( which were non integer scraped)"
   ]
  },
  {
   "cell_type": "code",
   "execution_count": null,
   "metadata": {},
   "outputs": [],
   "source": [
    "import pandas as pd\n",
    "price_df=pd.read_csv('Updated_Prices_n.csv')\n",
    "# Assuming df is your DataFrame with 25 columns and a 'prices' column\n",
    "# Assuming price_df is your DataFrame containing vehicle_make, vehicle_model, and prices columns\n",
    "# Merge the two DataFrames based on vehicle_make and vehicle_model columns\n",
    "merged_df = pd.merge(df, price_df, on=['vehicle_make', 'vehicle_model'], how='left')\n",
    "\n",
    "# Update prices in df where there is a match in price_df\n",
    "merged_df['prices_x'] = merged_df['prices_y'].combine_first(merged_df['prices_x'])\n",
    "merged_df.drop(['prices_y'], axis=1, inplace=True)\n",
    "merged_df.rename(columns={'prices_x': 'prices'}, inplace=True)\n",
    "\n",
    "\n",
    "\n",
    "# Print the updated DataFrame to confirm the changes\n",
    "print(merged_df)\n"
   ]
  },
  {
   "cell_type": "code",
   "execution_count": null,
   "metadata": {},
   "outputs": [],
   "source": []
  }
 ],
 "metadata": {
  "language_info": {
   "name": "python"
  }
 },
 "nbformat": 4,
 "nbformat_minor": 2
}
